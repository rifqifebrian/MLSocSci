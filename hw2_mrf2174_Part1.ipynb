{
 "cells": [
  {
   "cell_type": "markdown",
   "id": "19ff8d58",
   "metadata": {},
   "source": [
    "## Muhammad Rifqi Febrian (mrf2174)\n",
    "## HW 2 Part 1"
   ]
  },
  {
   "cell_type": "code",
   "execution_count": 1,
   "id": "6d67e541",
   "metadata": {},
   "outputs": [],
   "source": [
    "#Import Python Libraries\n",
    "import numpy as np\n",
    "import scipy as sp\n",
    "from scipy.stats import pearsonr\n",
    "import scipy.stats\n",
    "import pandas as pd\n",
    "import matplotlib as mpl\n",
    "import seaborn as sns\n",
    "import matplotlib.pyplot as plt\n",
    "%matplotlib inline"
   ]
  },
  {
   "cell_type": "markdown",
   "id": "39cad3b0",
   "metadata": {},
   "source": [
    "# Part 1: Regression on California Test Scores"
   ]
  },
  {
   "cell_type": "markdown",
   "id": "0fa43d4f",
   "metadata": {},
   "source": [
    "## Question 1\n",
    "Find the url for the California Test Score Data Set from the following website:\n",
    "\n",
    "https://vincentarelbundock.github.io/Rdatasets/datasets.html\n",
    "\n",
    "Read through the \"DOC\" file to understand the variables in the dataset, then use the following url to import the data.  \n",
    "\n",
    "https://vincentarelbundock.github.io/Rdatasets/csv/Ecdat/Caschool.csv\n",
    "\n",
    "The target data (i.e. the dependent variable) is named \"testscr\".  You can use all  variables in the data except for \"readscr\" and \"mathscr\" in the following analysis.  (These two variables were used to generate the dependent variable)."
   ]
  },
  {
   "cell_type": "code",
   "execution_count": 2,
   "id": "a18902bd",
   "metadata": {},
   "outputs": [
    {
     "data": {
      "text/html": [
       "<div>\n",
       "<style scoped>\n",
       "    .dataframe tbody tr th:only-of-type {\n",
       "        vertical-align: middle;\n",
       "    }\n",
       "\n",
       "    .dataframe tbody tr th {\n",
       "        vertical-align: top;\n",
       "    }\n",
       "\n",
       "    .dataframe thead th {\n",
       "        text-align: right;\n",
       "    }\n",
       "</style>\n",
       "<table border=\"1\" class=\"dataframe\">\n",
       "  <thead>\n",
       "    <tr style=\"text-align: right;\">\n",
       "      <th></th>\n",
       "      <th>Unnamed: 0</th>\n",
       "      <th>distcod</th>\n",
       "      <th>county</th>\n",
       "      <th>district</th>\n",
       "      <th>grspan</th>\n",
       "      <th>enrltot</th>\n",
       "      <th>teachers</th>\n",
       "      <th>calwpct</th>\n",
       "      <th>mealpct</th>\n",
       "      <th>computer</th>\n",
       "      <th>testscr</th>\n",
       "      <th>compstu</th>\n",
       "      <th>expnstu</th>\n",
       "      <th>str</th>\n",
       "      <th>avginc</th>\n",
       "      <th>elpct</th>\n",
       "      <th>readscr</th>\n",
       "      <th>mathscr</th>\n",
       "    </tr>\n",
       "  </thead>\n",
       "  <tbody>\n",
       "    <tr>\n",
       "      <th>0</th>\n",
       "      <td>1</td>\n",
       "      <td>75119</td>\n",
       "      <td>Alameda</td>\n",
       "      <td>Sunol Glen Unified</td>\n",
       "      <td>KK-08</td>\n",
       "      <td>195</td>\n",
       "      <td>10.900000</td>\n",
       "      <td>0.510200</td>\n",
       "      <td>2.040800</td>\n",
       "      <td>67</td>\n",
       "      <td>690.799988</td>\n",
       "      <td>0.343590</td>\n",
       "      <td>6384.911133</td>\n",
       "      <td>17.889910</td>\n",
       "      <td>22.690001</td>\n",
       "      <td>0.000000</td>\n",
       "      <td>691.599976</td>\n",
       "      <td>690.000000</td>\n",
       "    </tr>\n",
       "    <tr>\n",
       "      <th>1</th>\n",
       "      <td>2</td>\n",
       "      <td>61499</td>\n",
       "      <td>Butte</td>\n",
       "      <td>Manzanita Elementary</td>\n",
       "      <td>KK-08</td>\n",
       "      <td>240</td>\n",
       "      <td>11.150000</td>\n",
       "      <td>15.416700</td>\n",
       "      <td>47.916698</td>\n",
       "      <td>101</td>\n",
       "      <td>661.200012</td>\n",
       "      <td>0.420833</td>\n",
       "      <td>5099.380859</td>\n",
       "      <td>21.524664</td>\n",
       "      <td>9.824000</td>\n",
       "      <td>4.583333</td>\n",
       "      <td>660.500000</td>\n",
       "      <td>661.900024</td>\n",
       "    </tr>\n",
       "    <tr>\n",
       "      <th>2</th>\n",
       "      <td>3</td>\n",
       "      <td>61549</td>\n",
       "      <td>Butte</td>\n",
       "      <td>Thermalito Union Elementary</td>\n",
       "      <td>KK-08</td>\n",
       "      <td>1550</td>\n",
       "      <td>82.900002</td>\n",
       "      <td>55.032299</td>\n",
       "      <td>76.322601</td>\n",
       "      <td>169</td>\n",
       "      <td>643.599976</td>\n",
       "      <td>0.109032</td>\n",
       "      <td>5501.954590</td>\n",
       "      <td>18.697226</td>\n",
       "      <td>8.978000</td>\n",
       "      <td>30.000002</td>\n",
       "      <td>636.299988</td>\n",
       "      <td>650.900024</td>\n",
       "    </tr>\n",
       "    <tr>\n",
       "      <th>3</th>\n",
       "      <td>4</td>\n",
       "      <td>61457</td>\n",
       "      <td>Butte</td>\n",
       "      <td>Golden Feather Union Elementary</td>\n",
       "      <td>KK-08</td>\n",
       "      <td>243</td>\n",
       "      <td>14.000000</td>\n",
       "      <td>36.475399</td>\n",
       "      <td>77.049202</td>\n",
       "      <td>85</td>\n",
       "      <td>647.700012</td>\n",
       "      <td>0.349794</td>\n",
       "      <td>7101.831055</td>\n",
       "      <td>17.357143</td>\n",
       "      <td>8.978000</td>\n",
       "      <td>0.000000</td>\n",
       "      <td>651.900024</td>\n",
       "      <td>643.500000</td>\n",
       "    </tr>\n",
       "    <tr>\n",
       "      <th>4</th>\n",
       "      <td>5</td>\n",
       "      <td>61523</td>\n",
       "      <td>Butte</td>\n",
       "      <td>Palermo Union Elementary</td>\n",
       "      <td>KK-08</td>\n",
       "      <td>1335</td>\n",
       "      <td>71.500000</td>\n",
       "      <td>33.108601</td>\n",
       "      <td>78.427002</td>\n",
       "      <td>171</td>\n",
       "      <td>640.849976</td>\n",
       "      <td>0.128090</td>\n",
       "      <td>5235.987793</td>\n",
       "      <td>18.671329</td>\n",
       "      <td>9.080333</td>\n",
       "      <td>13.857677</td>\n",
       "      <td>641.799988</td>\n",
       "      <td>639.900024</td>\n",
       "    </tr>\n",
       "  </tbody>\n",
       "</table>\n",
       "</div>"
      ],
      "text/plain": [
       "   Unnamed: 0  distcod   county                         district grspan  \\\n",
       "0           1    75119  Alameda               Sunol Glen Unified  KK-08   \n",
       "1           2    61499    Butte             Manzanita Elementary  KK-08   \n",
       "2           3    61549    Butte      Thermalito Union Elementary  KK-08   \n",
       "3           4    61457    Butte  Golden Feather Union Elementary  KK-08   \n",
       "4           5    61523    Butte         Palermo Union Elementary  KK-08   \n",
       "\n",
       "   enrltot   teachers    calwpct    mealpct  computer     testscr   compstu  \\\n",
       "0      195  10.900000   0.510200   2.040800        67  690.799988  0.343590   \n",
       "1      240  11.150000  15.416700  47.916698       101  661.200012  0.420833   \n",
       "2     1550  82.900002  55.032299  76.322601       169  643.599976  0.109032   \n",
       "3      243  14.000000  36.475399  77.049202        85  647.700012  0.349794   \n",
       "4     1335  71.500000  33.108601  78.427002       171  640.849976  0.128090   \n",
       "\n",
       "       expnstu        str     avginc      elpct     readscr     mathscr  \n",
       "0  6384.911133  17.889910  22.690001   0.000000  691.599976  690.000000  \n",
       "1  5099.380859  21.524664   9.824000   4.583333  660.500000  661.900024  \n",
       "2  5501.954590  18.697226   8.978000  30.000002  636.299988  650.900024  \n",
       "3  7101.831055  17.357143   8.978000   0.000000  651.900024  643.500000  \n",
       "4  5235.987793  18.671329   9.080333  13.857677  641.799988  639.900024  "
      ]
     },
     "execution_count": 2,
     "metadata": {},
     "output_type": "execute_result"
    }
   ],
   "source": [
    "#read csv file\n",
    "df=pd.read_csv(\"https://vincentarelbundock.github.io/Rdatasets/csv/Ecdat/Caschool.csv\")\n",
    "#checking the dataset\n",
    "df.head()"
   ]
  },
  {
   "cell_type": "markdown",
   "id": "c42f35e6",
   "metadata": {},
   "source": [
    "### 1.1\n",
    "Visualize the univariate distribution of the target feature and each of the three continuous explanatory variables that you think are likely to have a relationship with the target feature.   "
   ]
  },
  {
   "cell_type": "code",
   "execution_count": 3,
   "id": "13410aaa",
   "metadata": {},
   "outputs": [
    {
     "data": {
      "text/plain": [
       "Text(0.5, 0, 'test score')"
      ]
     },
     "execution_count": 3,
     "metadata": {},
     "output_type": "execute_result"
    },
    {
     "data": {
      "image/png": "[encoded data removed]",
      "text/plain": [
       "<Figure size 432x288 with 1 Axes>"
      ]
     },
     "metadata": {
      "needs_background": "light"
     },
     "output_type": "display_data"
    }
   ],
   "source": [
    "# Univariate distribution of the target feature (testscr)\n",
    "# Target feature\n",
    "# since testscr is an interval data, so I will choose histogram to visualize the univariate distribution\n",
    "df['testscr'].plot.hist()\n",
    "plt.title(\"California Test Score\")\n",
    "plt.xlabel(\"test score\")"
   ]
  },
  {
   "cell_type": "code",
   "execution_count": 4,
   "id": "62002329",
   "metadata": {},
   "outputs": [
    {
     "data": {
      "text/plain": [
       "Text(0.5, 0, 'Number of teachers')"
      ]
     },
     "execution_count": 4,
     "metadata": {},
     "output_type": "execute_result"
    },
    {
     "data": {
      "image/png": "[encoded data removed]",
      "text/plain": [
       "<Figure size 432x288 with 1 Axes>"
      ]
     },
     "metadata": {
      "needs_background": "light"
     },
     "output_type": "display_data"
    }
   ],
   "source": [
    "# First explanatory variable\n",
    "# I chooses teacher as my first explanatory variable\n",
    "df['teachers'].plot.hist()\n",
    "plt.title(\"Number of teachers\")\n",
    "plt.xlabel(\"Number of teachers\")"
   ]
  },
  {
   "cell_type": "code",
   "execution_count": 5,
   "id": "62acd8b4",
   "metadata": {},
   "outputs": [
    {
     "data": {
      "text/plain": [
       "Text(0.5, 0, 'District average income')"
      ]
     },
     "execution_count": 5,
     "metadata": {},
     "output_type": "execute_result"
    },
    {
     "data": {
      "image/png": "[encoded data removed]",
      "text/plain": [
       "<Figure size 432x288 with 1 Axes>"
      ]
     },
     "metadata": {
      "needs_background": "light"
     },
     "output_type": "display_data"
    }
   ],
   "source": [
    "# Second explanatory variable\n",
    "# I chooses average income as my second explanatory variable\n",
    "df['avginc'].plot.hist()\n",
    "plt.title(\"District average income in USD 1,000\")\n",
    "plt.xlabel(\"District average income\")"
   ]
  },
  {
   "cell_type": "code",
   "execution_count": 6,
   "id": "9592df5f",
   "metadata": {},
   "outputs": [
    {
     "data": {
      "text/plain": [
       "Text(0.5, 0, 'Number of computers')"
      ]
     },
     "execution_count": 6,
     "metadata": {},
     "output_type": "execute_result"
    },
    {
     "data": {
      "image/png": "[encoded data removed]",
      "text/plain": [
       "<Figure size 432x288 with 1 Axes>"
      ]
     },
     "metadata": {
      "needs_background": "light"
     },
     "output_type": "display_data"
    }
   ],
   "source": [
    "# Third explanatory variable\n",
    "# I chooses number of computers as my third explanatory variable\n",
    "df['computer'].plot.hist()\n",
    "plt.title(\"Number of computers\")\n",
    "plt.xlabel(\"Number of computers\")"
   ]
  },
  {
   "cell_type": "markdown",
   "id": "48393751",
   "metadata": {},
   "source": [
    "### 1.2\n",
    "Visualize the dependency of the target on each feature from 1.1"
   ]
  },
  {
   "cell_type": "code",
   "execution_count": 7,
   "id": "a9c68842",
   "metadata": {},
   "outputs": [
    {
     "name": "stdout",
     "output_type": "stream",
     "text": [
      "Coefficient correlation: -0.145\n"
     ]
    },
    {
     "data": {
      "image/png": "[encoded data removed]",
      "text/plain": [
       "<Figure size 432x288 with 1 Axes>"
      ]
     },
     "metadata": {
      "needs_background": "light"
     },
     "output_type": "display_data"
    }
   ],
   "source": [
    "# dependency of test score to number of teachers\n",
    "plt.scatter(x=df['teachers'],y=df['testscr'])\n",
    "plt.show\n",
    "\n",
    "#calculating the correlation\n",
    "corr_1 = scipy.stats.pearsonr(df['teachers'], df['testscr'])[0]\n",
    "plt.title(\"number of teachers vs test score\")\n",
    "plt.xlabel(\"number of teachers\")\n",
    "plt.ylabel(\"test score\")\n",
    "print('Coefficient correlation: %.3f' % corr_1)"
   ]
  },
  {
   "cell_type": "code",
   "execution_count": 8,
   "id": "6641b943",
   "metadata": {},
   "outputs": [
    {
     "name": "stdout",
     "output_type": "stream",
     "text": [
      "Coefficient correlation: 0.712\n"
     ]
    },
    {
     "data": {
      "image/png": "[encoded data removed]",
      "text/plain": [
       "<Figure size 432x288 with 1 Axes>"
      ]
     },
     "metadata": {
      "needs_background": "light"
     },
     "output_type": "display_data"
    }
   ],
   "source": [
    "# dependency of test score to district average income\n",
    "plt.scatter(x=df['avginc'],y=df['testscr'])\n",
    "plt.show\n",
    "\n",
    "#calculating the correlation\n",
    "corr_2 = scipy.stats.pearsonr(df['avginc'], df['testscr'])[0]\n",
    "plt.title(\"District average income vs test score\")\n",
    "plt.xlabel(\"District average income (in USD 1,000)\")\n",
    "plt.ylabel(\"test score\")\n",
    "print('Coefficient correlation: %.3f' % corr_2)"
   ]
  },
  {
   "cell_type": "code",
   "execution_count": 9,
   "id": "262f3453",
   "metadata": {},
   "outputs": [
    {
     "name": "stdout",
     "output_type": "stream",
     "text": [
      "Coefficient correlation: -0.074\n"
     ]
    },
    {
     "data": {
      "image/png": "[encoded data removed]",
      "text/plain": [
       "<Figure size 432x288 with 1 Axes>"
      ]
     },
     "metadata": {
      "needs_background": "light"
     },
     "output_type": "display_data"
    }
   ],
   "source": [
    "# dependency of test score to number of computers\n",
    "plt.scatter(x=df['computer'],y=df['testscr'])\n",
    "plt.show\n",
    "\n",
    "#calculating the correlation\n",
    "corr_3 = scipy.stats.pearsonr(df['computer'], df['testscr'])[0]\n",
    "plt.title(\"Number of computers vs test score\")\n",
    "plt.xlabel(\"Number of computers\")\n",
    "plt.ylabel(\"test score\")\n",
    "print('Coefficient correlation: %.3f' % corr_3)"
   ]
  },
  {
   "cell_type": "markdown",
   "id": "2b162ad8",
   "metadata": {},
   "source": [
    "### 1.3\n",
    "Split data in training and test set. Build models that evaluate the relationship between all available X variables in the California test dataset and the target variable. Evaluate KNN for regression, Linear Regression (OLS), Ridge, and Lasso using cross-validation with the default parameters. Does scaling the data with the StandardScaler help?"
   ]
  },
  {
   "cell_type": "markdown",
   "id": "ce99eca4",
   "metadata": {},
   "source": [
    "#### 1.3. A\n",
    "Splitting the data to training and test set"
   ]
  },
  {
   "cell_type": "code",
   "execution_count": 10,
   "id": "0295d8f7",
   "metadata": {},
   "outputs": [
    {
     "data": {
      "text/html": [
       "<div>\n",
       "<style scoped>\n",
       "    .dataframe tbody tr th:only-of-type {\n",
       "        vertical-align: middle;\n",
       "    }\n",
       "\n",
       "    .dataframe tbody tr th {\n",
       "        vertical-align: top;\n",
       "    }\n",
       "\n",
       "    .dataframe thead th {\n",
       "        text-align: right;\n",
       "    }\n",
       "</style>\n",
       "<table border=\"1\" class=\"dataframe\">\n",
       "  <thead>\n",
       "    <tr style=\"text-align: right;\">\n",
       "      <th></th>\n",
       "      <th>Unnamed: 0</th>\n",
       "      <th>distcod</th>\n",
       "      <th>county</th>\n",
       "      <th>district</th>\n",
       "      <th>grspan</th>\n",
       "      <th>enrltot</th>\n",
       "      <th>teachers</th>\n",
       "      <th>calwpct</th>\n",
       "      <th>mealpct</th>\n",
       "      <th>computer</th>\n",
       "      <th>testscr</th>\n",
       "      <th>compstu</th>\n",
       "      <th>expnstu</th>\n",
       "      <th>str</th>\n",
       "      <th>avginc</th>\n",
       "      <th>elpct</th>\n",
       "      <th>readscr</th>\n",
       "      <th>mathscr</th>\n",
       "    </tr>\n",
       "  </thead>\n",
       "  <tbody>\n",
       "    <tr>\n",
       "      <th>0</th>\n",
       "      <td>1</td>\n",
       "      <td>75119</td>\n",
       "      <td>Alameda</td>\n",
       "      <td>Sunol Glen Unified</td>\n",
       "      <td>KK-08</td>\n",
       "      <td>195</td>\n",
       "      <td>10.900000</td>\n",
       "      <td>0.510200</td>\n",
       "      <td>2.040800</td>\n",
       "      <td>67</td>\n",
       "      <td>690.799988</td>\n",
       "      <td>0.343590</td>\n",
       "      <td>6384.911133</td>\n",
       "      <td>17.889910</td>\n",
       "      <td>22.690001</td>\n",
       "      <td>0.000000</td>\n",
       "      <td>691.599976</td>\n",
       "      <td>690.000000</td>\n",
       "    </tr>\n",
       "    <tr>\n",
       "      <th>1</th>\n",
       "      <td>2</td>\n",
       "      <td>61499</td>\n",
       "      <td>Butte</td>\n",
       "      <td>Manzanita Elementary</td>\n",
       "      <td>KK-08</td>\n",
       "      <td>240</td>\n",
       "      <td>11.150000</td>\n",
       "      <td>15.416700</td>\n",
       "      <td>47.916698</td>\n",
       "      <td>101</td>\n",
       "      <td>661.200012</td>\n",
       "      <td>0.420833</td>\n",
       "      <td>5099.380859</td>\n",
       "      <td>21.524664</td>\n",
       "      <td>9.824000</td>\n",
       "      <td>4.583333</td>\n",
       "      <td>660.500000</td>\n",
       "      <td>661.900024</td>\n",
       "    </tr>\n",
       "    <tr>\n",
       "      <th>2</th>\n",
       "      <td>3</td>\n",
       "      <td>61549</td>\n",
       "      <td>Butte</td>\n",
       "      <td>Thermalito Union Elementary</td>\n",
       "      <td>KK-08</td>\n",
       "      <td>1550</td>\n",
       "      <td>82.900002</td>\n",
       "      <td>55.032299</td>\n",
       "      <td>76.322601</td>\n",
       "      <td>169</td>\n",
       "      <td>643.599976</td>\n",
       "      <td>0.109032</td>\n",
       "      <td>5501.954590</td>\n",
       "      <td>18.697226</td>\n",
       "      <td>8.978000</td>\n",
       "      <td>30.000002</td>\n",
       "      <td>636.299988</td>\n",
       "      <td>650.900024</td>\n",
       "    </tr>\n",
       "    <tr>\n",
       "      <th>3</th>\n",
       "      <td>4</td>\n",
       "      <td>61457</td>\n",
       "      <td>Butte</td>\n",
       "      <td>Golden Feather Union Elementary</td>\n",
       "      <td>KK-08</td>\n",
       "      <td>243</td>\n",
       "      <td>14.000000</td>\n",
       "      <td>36.475399</td>\n",
       "      <td>77.049202</td>\n",
       "      <td>85</td>\n",
       "      <td>647.700012</td>\n",
       "      <td>0.349794</td>\n",
       "      <td>7101.831055</td>\n",
       "      <td>17.357143</td>\n",
       "      <td>8.978000</td>\n",
       "      <td>0.000000</td>\n",
       "      <td>651.900024</td>\n",
       "      <td>643.500000</td>\n",
       "    </tr>\n",
       "    <tr>\n",
       "      <th>4</th>\n",
       "      <td>5</td>\n",
       "      <td>61523</td>\n",
       "      <td>Butte</td>\n",
       "      <td>Palermo Union Elementary</td>\n",
       "      <td>KK-08</td>\n",
       "      <td>1335</td>\n",
       "      <td>71.500000</td>\n",
       "      <td>33.108601</td>\n",
       "      <td>78.427002</td>\n",
       "      <td>171</td>\n",
       "      <td>640.849976</td>\n",
       "      <td>0.128090</td>\n",
       "      <td>5235.987793</td>\n",
       "      <td>18.671329</td>\n",
       "      <td>9.080333</td>\n",
       "      <td>13.857677</td>\n",
       "      <td>641.799988</td>\n",
       "      <td>639.900024</td>\n",
       "    </tr>\n",
       "  </tbody>\n",
       "</table>\n",
       "</div>"
      ],
      "text/plain": [
       "   Unnamed: 0  distcod   county                         district grspan  \\\n",
       "0           1    75119  Alameda               Sunol Glen Unified  KK-08   \n",
       "1           2    61499    Butte             Manzanita Elementary  KK-08   \n",
       "2           3    61549    Butte      Thermalito Union Elementary  KK-08   \n",
       "3           4    61457    Butte  Golden Feather Union Elementary  KK-08   \n",
       "4           5    61523    Butte         Palermo Union Elementary  KK-08   \n",
       "\n",
       "   enrltot   teachers    calwpct    mealpct  computer     testscr   compstu  \\\n",
       "0      195  10.900000   0.510200   2.040800        67  690.799988  0.343590   \n",
       "1      240  11.150000  15.416700  47.916698       101  661.200012  0.420833   \n",
       "2     1550  82.900002  55.032299  76.322601       169  643.599976  0.109032   \n",
       "3      243  14.000000  36.475399  77.049202        85  647.700012  0.349794   \n",
       "4     1335  71.500000  33.108601  78.427002       171  640.849976  0.128090   \n",
       "\n",
       "       expnstu        str     avginc      elpct     readscr     mathscr  \n",
       "0  6384.911133  17.889910  22.690001   0.000000  691.599976  690.000000  \n",
       "1  5099.380859  21.524664   9.824000   4.583333  660.500000  661.900024  \n",
       "2  5501.954590  18.697226   8.978000  30.000002  636.299988  650.900024  \n",
       "3  7101.831055  17.357143   8.978000   0.000000  651.900024  643.500000  \n",
       "4  5235.987793  18.671329   9.080333  13.857677  641.799988  639.900024  "
      ]
     },
     "execution_count": 10,
     "metadata": {},
     "output_type": "execute_result"
    }
   ],
   "source": [
    "df.head()"
   ]
  },
  {
   "cell_type": "code",
   "execution_count": 11,
   "id": "013308db",
   "metadata": {},
   "outputs": [
    {
     "name": "stdout",
     "output_type": "stream",
     "text": [
      "0    690.799988\n",
      "1    661.200012\n",
      "2    643.599976\n",
      "3    647.700012\n",
      "4    640.849976\n",
      "Name: testscr, dtype: float64\n"
     ]
    },
    {
     "data": {
      "text/html": [
       "<div>\n",
       "<style scoped>\n",
       "    .dataframe tbody tr th:only-of-type {\n",
       "        vertical-align: middle;\n",
       "    }\n",
       "\n",
       "    .dataframe tbody tr th {\n",
       "        vertical-align: top;\n",
       "    }\n",
       "\n",
       "    .dataframe thead th {\n",
       "        text-align: right;\n",
       "    }\n",
       "</style>\n",
       "<table border=\"1\" class=\"dataframe\">\n",
       "  <thead>\n",
       "    <tr style=\"text-align: right;\">\n",
       "      <th></th>\n",
       "      <th>enrltot</th>\n",
       "      <th>teachers</th>\n",
       "      <th>calwpct</th>\n",
       "      <th>mealpct</th>\n",
       "      <th>computer</th>\n",
       "      <th>compstu</th>\n",
       "      <th>expnstu</th>\n",
       "      <th>str</th>\n",
       "      <th>avginc</th>\n",
       "      <th>elpct</th>\n",
       "    </tr>\n",
       "  </thead>\n",
       "  <tbody>\n",
       "    <tr>\n",
       "      <th>0</th>\n",
       "      <td>195</td>\n",
       "      <td>10.900000</td>\n",
       "      <td>0.510200</td>\n",
       "      <td>2.040800</td>\n",
       "      <td>67</td>\n",
       "      <td>0.343590</td>\n",
       "      <td>6384.911133</td>\n",
       "      <td>17.889910</td>\n",
       "      <td>22.690001</td>\n",
       "      <td>0.000000</td>\n",
       "    </tr>\n",
       "    <tr>\n",
       "      <th>1</th>\n",
       "      <td>240</td>\n",
       "      <td>11.150000</td>\n",
       "      <td>15.416700</td>\n",
       "      <td>47.916698</td>\n",
       "      <td>101</td>\n",
       "      <td>0.420833</td>\n",
       "      <td>5099.380859</td>\n",
       "      <td>21.524664</td>\n",
       "      <td>9.824000</td>\n",
       "      <td>4.583333</td>\n",
       "    </tr>\n",
       "    <tr>\n",
       "      <th>2</th>\n",
       "      <td>1550</td>\n",
       "      <td>82.900002</td>\n",
       "      <td>55.032299</td>\n",
       "      <td>76.322601</td>\n",
       "      <td>169</td>\n",
       "      <td>0.109032</td>\n",
       "      <td>5501.954590</td>\n",
       "      <td>18.697226</td>\n",
       "      <td>8.978000</td>\n",
       "      <td>30.000002</td>\n",
       "    </tr>\n",
       "    <tr>\n",
       "      <th>3</th>\n",
       "      <td>243</td>\n",
       "      <td>14.000000</td>\n",
       "      <td>36.475399</td>\n",
       "      <td>77.049202</td>\n",
       "      <td>85</td>\n",
       "      <td>0.349794</td>\n",
       "      <td>7101.831055</td>\n",
       "      <td>17.357143</td>\n",
       "      <td>8.978000</td>\n",
       "      <td>0.000000</td>\n",
       "    </tr>\n",
       "    <tr>\n",
       "      <th>4</th>\n",
       "      <td>1335</td>\n",
       "      <td>71.500000</td>\n",
       "      <td>33.108601</td>\n",
       "      <td>78.427002</td>\n",
       "      <td>171</td>\n",
       "      <td>0.128090</td>\n",
       "      <td>5235.987793</td>\n",
       "      <td>18.671329</td>\n",
       "      <td>9.080333</td>\n",
       "      <td>13.857677</td>\n",
       "    </tr>\n",
       "  </tbody>\n",
       "</table>\n",
       "</div>"
      ],
      "text/plain": [
       "   enrltot   teachers    calwpct    mealpct  computer   compstu      expnstu  \\\n",
       "0      195  10.900000   0.510200   2.040800        67  0.343590  6384.911133   \n",
       "1      240  11.150000  15.416700  47.916698       101  0.420833  5099.380859   \n",
       "2     1550  82.900002  55.032299  76.322601       169  0.109032  5501.954590   \n",
       "3      243  14.000000  36.475399  77.049202        85  0.349794  7101.831055   \n",
       "4     1335  71.500000  33.108601  78.427002       171  0.128090  5235.987793   \n",
       "\n",
       "         str     avginc      elpct  \n",
       "0  17.889910  22.690001   0.000000  \n",
       "1  21.524664   9.824000   4.583333  \n",
       "2  18.697226   8.978000  30.000002  \n",
       "3  17.357143   8.978000   0.000000  \n",
       "4  18.671329   9.080333  13.857677  "
      ]
     },
     "execution_count": 11,
     "metadata": {},
     "output_type": "execute_result"
    }
   ],
   "source": [
    "# Changing variables name to X, y to create train/test split\n",
    "\n",
    "ts = df.drop(df.columns[[0,1,2,3,4,16,17]], axis=1) #delete unrelated column\n",
    "\n",
    "y = ts['testscr']\n",
    "X = ts.loc[:, ts.columns != \"testscr\"]\n",
    "\n",
    "print(y[0:5])\n",
    "X.head()"
   ]
  },
  {
   "cell_type": "code",
   "execution_count": 13,
   "id": "2ee69c6e",
   "metadata": {},
   "outputs": [
    {
     "name": "stdout",
     "output_type": "stream",
     "text": [
      "(420, 10)\n",
      "(315, 10)\n",
      "(105, 10)\n"
     ]
    },
    {
     "data": {
      "text/html": [
       "<div>\n",
       "<style scoped>\n",
       "    .dataframe tbody tr th:only-of-type {\n",
       "        vertical-align: middle;\n",
       "    }\n",
       "\n",
       "    .dataframe tbody tr th {\n",
       "        vertical-align: top;\n",
       "    }\n",
       "\n",
       "    .dataframe thead th {\n",
       "        text-align: right;\n",
       "    }\n",
       "</style>\n",
       "<table border=\"1\" class=\"dataframe\">\n",
       "  <thead>\n",
       "    <tr style=\"text-align: right;\">\n",
       "      <th></th>\n",
       "      <th>enrltot</th>\n",
       "      <th>teachers</th>\n",
       "      <th>calwpct</th>\n",
       "      <th>mealpct</th>\n",
       "      <th>computer</th>\n",
       "      <th>compstu</th>\n",
       "      <th>expnstu</th>\n",
       "      <th>str</th>\n",
       "      <th>avginc</th>\n",
       "      <th>elpct</th>\n",
       "    </tr>\n",
       "  </thead>\n",
       "  <tbody>\n",
       "    <tr>\n",
       "      <th>0</th>\n",
       "      <td>195</td>\n",
       "      <td>10.900000</td>\n",
       "      <td>0.510200</td>\n",
       "      <td>2.040800</td>\n",
       "      <td>67</td>\n",
       "      <td>0.343590</td>\n",
       "      <td>6384.911133</td>\n",
       "      <td>17.889910</td>\n",
       "      <td>22.690001</td>\n",
       "      <td>0.000000</td>\n",
       "    </tr>\n",
       "    <tr>\n",
       "      <th>1</th>\n",
       "      <td>240</td>\n",
       "      <td>11.150000</td>\n",
       "      <td>15.416700</td>\n",
       "      <td>47.916698</td>\n",
       "      <td>101</td>\n",
       "      <td>0.420833</td>\n",
       "      <td>5099.380859</td>\n",
       "      <td>21.524664</td>\n",
       "      <td>9.824000</td>\n",
       "      <td>4.583333</td>\n",
       "    </tr>\n",
       "    <tr>\n",
       "      <th>2</th>\n",
       "      <td>1550</td>\n",
       "      <td>82.900002</td>\n",
       "      <td>55.032299</td>\n",
       "      <td>76.322601</td>\n",
       "      <td>169</td>\n",
       "      <td>0.109032</td>\n",
       "      <td>5501.954590</td>\n",
       "      <td>18.697226</td>\n",
       "      <td>8.978000</td>\n",
       "      <td>30.000002</td>\n",
       "    </tr>\n",
       "    <tr>\n",
       "      <th>3</th>\n",
       "      <td>243</td>\n",
       "      <td>14.000000</td>\n",
       "      <td>36.475399</td>\n",
       "      <td>77.049202</td>\n",
       "      <td>85</td>\n",
       "      <td>0.349794</td>\n",
       "      <td>7101.831055</td>\n",
       "      <td>17.357143</td>\n",
       "      <td>8.978000</td>\n",
       "      <td>0.000000</td>\n",
       "    </tr>\n",
       "    <tr>\n",
       "      <th>4</th>\n",
       "      <td>1335</td>\n",
       "      <td>71.500000</td>\n",
       "      <td>33.108601</td>\n",
       "      <td>78.427002</td>\n",
       "      <td>171</td>\n",
       "      <td>0.128090</td>\n",
       "      <td>5235.987793</td>\n",
       "      <td>18.671329</td>\n",
       "      <td>9.080333</td>\n",
       "      <td>13.857677</td>\n",
       "    </tr>\n",
       "    <tr>\n",
       "      <th>...</th>\n",
       "      <td>...</td>\n",
       "      <td>...</td>\n",
       "      <td>...</td>\n",
       "      <td>...</td>\n",
       "      <td>...</td>\n",
       "      <td>...</td>\n",
       "      <td>...</td>\n",
       "      <td>...</td>\n",
       "      <td>...</td>\n",
       "      <td>...</td>\n",
       "    </tr>\n",
       "    <tr>\n",
       "      <th>415</th>\n",
       "      <td>984</td>\n",
       "      <td>59.730000</td>\n",
       "      <td>0.101600</td>\n",
       "      <td>3.556900</td>\n",
       "      <td>195</td>\n",
       "      <td>0.198171</td>\n",
       "      <td>7290.338867</td>\n",
       "      <td>16.474134</td>\n",
       "      <td>28.716999</td>\n",
       "      <td>5.995935</td>\n",
       "    </tr>\n",
       "    <tr>\n",
       "      <th>416</th>\n",
       "      <td>3724</td>\n",
       "      <td>208.479996</td>\n",
       "      <td>1.074100</td>\n",
       "      <td>1.503800</td>\n",
       "      <td>721</td>\n",
       "      <td>0.193609</td>\n",
       "      <td>5741.462891</td>\n",
       "      <td>17.862625</td>\n",
       "      <td>41.734108</td>\n",
       "      <td>4.726101</td>\n",
       "    </tr>\n",
       "    <tr>\n",
       "      <th>417</th>\n",
       "      <td>441</td>\n",
       "      <td>20.150000</td>\n",
       "      <td>3.563500</td>\n",
       "      <td>37.193802</td>\n",
       "      <td>45</td>\n",
       "      <td>0.102041</td>\n",
       "      <td>4402.831543</td>\n",
       "      <td>21.885857</td>\n",
       "      <td>23.733000</td>\n",
       "      <td>24.263039</td>\n",
       "    </tr>\n",
       "    <tr>\n",
       "      <th>418</th>\n",
       "      <td>101</td>\n",
       "      <td>5.000000</td>\n",
       "      <td>11.881200</td>\n",
       "      <td>59.405899</td>\n",
       "      <td>14</td>\n",
       "      <td>0.138614</td>\n",
       "      <td>4776.336426</td>\n",
       "      <td>20.200001</td>\n",
       "      <td>9.952000</td>\n",
       "      <td>2.970297</td>\n",
       "    </tr>\n",
       "    <tr>\n",
       "      <th>419</th>\n",
       "      <td>1778</td>\n",
       "      <td>93.400002</td>\n",
       "      <td>6.923500</td>\n",
       "      <td>47.571201</td>\n",
       "      <td>313</td>\n",
       "      <td>0.176041</td>\n",
       "      <td>5993.392578</td>\n",
       "      <td>19.036402</td>\n",
       "      <td>12.502000</td>\n",
       "      <td>5.005624</td>\n",
       "    </tr>\n",
       "  </tbody>\n",
       "</table>\n",
       "<p>420 rows × 10 columns</p>\n",
       "</div>"
      ],
      "text/plain": [
       "     enrltot    teachers    calwpct    mealpct  computer   compstu  \\\n",
       "0        195   10.900000   0.510200   2.040800        67  0.343590   \n",
       "1        240   11.150000  15.416700  47.916698       101  0.420833   \n",
       "2       1550   82.900002  55.032299  76.322601       169  0.109032   \n",
       "3        243   14.000000  36.475399  77.049202        85  0.349794   \n",
       "4       1335   71.500000  33.108601  78.427002       171  0.128090   \n",
       "..       ...         ...        ...        ...       ...       ...   \n",
       "415      984   59.730000   0.101600   3.556900       195  0.198171   \n",
       "416     3724  208.479996   1.074100   1.503800       721  0.193609   \n",
       "417      441   20.150000   3.563500  37.193802        45  0.102041   \n",
       "418      101    5.000000  11.881200  59.405899        14  0.138614   \n",
       "419     1778   93.400002   6.923500  47.571201       313  0.176041   \n",
       "\n",
       "         expnstu        str     avginc      elpct  \n",
       "0    6384.911133  17.889910  22.690001   0.000000  \n",
       "1    5099.380859  21.524664   9.824000   4.583333  \n",
       "2    5501.954590  18.697226   8.978000  30.000002  \n",
       "3    7101.831055  17.357143   8.978000   0.000000  \n",
       "4    5235.987793  18.671329   9.080333  13.857677  \n",
       "..           ...        ...        ...        ...  \n",
       "415  7290.338867  16.474134  28.716999   5.995935  \n",
       "416  5741.462891  17.862625  41.734108   4.726101  \n",
       "417  4402.831543  21.885857  23.733000  24.263039  \n",
       "418  4776.336426  20.200001   9.952000   2.970297  \n",
       "419  5993.392578  19.036402  12.502000   5.005624  \n",
       "\n",
       "[420 rows x 10 columns]"
      ]
     },
     "metadata": {},
     "output_type": "display_data"
    }
   ],
   "source": [
    "# Split data in training and test set\n",
    "from sklearn.model_selection import train_test_split\n",
    "\n",
    "# Use train_test_split(X,y) to create four new data sets, defaults to .75/.25 split\n",
    "X_train, X_test, y_train, y_test = train_test_split(X, y, random_state=0)\n",
    "\n",
    "print(X.shape)\n",
    "print(X_train.shape)\n",
    "print(X_test.shape)\n",
    "display(X)"
   ]
  },
  {
   "cell_type": "markdown",
   "id": "e6a0282f",
   "metadata": {},
   "source": [
    "#### 1.3 B\n",
    "Build models that evaluate the relationship between all available X variables in the California test dataset and the target variable. Evaluate KNN for regression, Linear Regression (OLS), Ridge, and Lasso using cross-validation with the default parameters."
   ]
  },
  {
   "cell_type": "markdown",
   "id": "c358c9b0",
   "metadata": {},
   "source": [
    "###### KNN for Regression"
   ]
  },
  {
   "cell_type": "code",
   "execution_count": 14,
   "id": "eb00d4b5",
   "metadata": {},
   "outputs": [
    {
     "data": {
      "text/plain": [
       "<matplotlib.legend.Legend at 0x7fd858697460>"
      ]
     },
     "execution_count": 14,
     "metadata": {},
     "output_type": "execute_result"
    },
    {
     "data": {
      "image/png": "[encoded data removed]",
      "text/plain": [
       "<Figure size 432x288 with 1 Axes>"
      ]
     },
     "metadata": {
      "needs_background": "light"
     },
     "output_type": "display_data"
    }
   ],
   "source": [
    "# KNN for regression\n",
    "from sklearn.neighbors import KNeighborsRegressor\n",
    "\n",
    "# Finding the best n_neighbors\n",
    "training_accuracy = []\n",
    "test_accuracy = []\n",
    "\n",
    "# try n_neighbors from 1 to 20 \n",
    "neighbors_settings = range(1, 25)\n",
    "for n_neighbors in neighbors_settings: # build the model\n",
    "    reg = KNeighborsRegressor(n_neighbors=n_neighbors)\n",
    "    reg.fit(X_train, y_train)\n",
    "    # record training set accuracy\n",
    "    training_accuracy.append(reg.score(X_train, y_train))\n",
    "    # record generalization accuracy\n",
    "    test_accuracy.append(reg.score(X_test, y_test))\n",
    "\n",
    "plt.plot(neighbors_settings, training_accuracy, label=\"training accuracy\")\n",
    "plt.plot(neighbors_settings, test_accuracy, label=\"test accuracy\")\n",
    "plt.ylabel(\"Accuracy\")\n",
    "plt.xlabel(\"n_neighbors\")\n",
    "plt.legend()"
   ]
  },
  {
   "cell_type": "code",
   "execution_count": 15,
   "id": "adba2678",
   "metadata": {},
   "outputs": [
    {
     "name": "stdout",
     "output_type": "stream",
     "text": [
      "0.07191576854108905\n"
     ]
    }
   ],
   "source": [
    "knnreg = KNeighborsRegressor(n_neighbors=22)\n",
    "knnreg.fit(X_train, y_train)\n",
    "\n",
    "print(knnreg.score(X_test, y_test))\n",
    "\n",
    "y_pred = knnreg.predict(X_test)"
   ]
  },
  {
   "cell_type": "code",
   "execution_count": 16,
   "id": "e326ff3c",
   "metadata": {},
   "outputs": [
    {
     "name": "stdout",
     "output_type": "stream",
     "text": [
      "[ -7.55371591 -14.53904884  -3.61125149 -27.49516195 -10.06562571]\n",
      "Average cross-validation score: -12.653\n"
     ]
    }
   ],
   "source": [
    "# KNN for regression using cross validation with the default parameters\n",
    "# import cross validation functions from sk learn\n",
    "\n",
    "from sklearn.model_selection import cross_val_score\n",
    "from sklearn.model_selection import KFold\n",
    "\n",
    "scores = cross_val_score(knnreg, X, y, cv=5)\n",
    "print(scores)\n",
    "print(\"Average cross-validation score: {:.3f}\".format(scores.mean()))"
   ]
  },
  {
   "cell_type": "markdown",
   "id": "408c877c",
   "metadata": {},
   "source": [
    "##### Linear Regression (OLS)"
   ]
  },
  {
   "cell_type": "code",
   "execution_count": 17,
   "id": "abe04e80",
   "metadata": {},
   "outputs": [
    {
     "name": "stdout",
     "output_type": "stream",
     "text": [
      "lr.coef_: [-6.63772796e-04  6.98908851e-03 -1.36133678e-01 -3.28932668e-01\n",
      "  2.13560444e-03  9.76154170e+00  2.03541995e-03 -1.39945887e-01\n",
      "  6.05434670e-01 -2.04283374e-01]\n",
      "lr.intercept_: 655.86346378683\n"
     ]
    }
   ],
   "source": [
    "from sklearn.linear_model import LinearRegression\n",
    "\n",
    "lr = LinearRegression()\n",
    "lr.fit(X_train, y_train)\n",
    "\n",
    "#The “slope” parameters (w), also called weights or coefficients, are stored in the coef_\n",
    "#..attribute, while the offset or intercept (b) is stored in the intercept_ attribute:\n",
    "\n",
    "print(\"lr.coef_: {}\".format(lr.coef_))\n",
    "print(\"lr.intercept_: {}\".format(lr.intercept_))"
   ]
  },
  {
   "cell_type": "code",
   "execution_count": 18,
   "id": "66331dce",
   "metadata": {},
   "outputs": [
    {
     "data": {
      "text/html": [
       "<table class=\"simpletable\">\n",
       "<caption>OLS Regression Results</caption>\n",
       "<tr>\n",
       "  <th>Dep. Variable:</th>         <td>testscr</td>     <th>  R-squared:         </th> <td>   0.808</td> \n",
       "</tr>\n",
       "<tr>\n",
       "  <th>Model:</th>                   <td>OLS</td>       <th>  Adj. R-squared:    </th> <td>   0.802</td> \n",
       "</tr>\n",
       "<tr>\n",
       "  <th>Method:</th>             <td>Least Squares</td>  <th>  F-statistic:       </th> <td>   128.0</td> \n",
       "</tr>\n",
       "<tr>\n",
       "  <th>Date:</th>             <td>Tue, 22 Feb 2022</td> <th>  Prob (F-statistic):</th> <td>1.06e-102</td>\n",
       "</tr>\n",
       "<tr>\n",
       "  <th>Time:</th>                 <td>16:26:28</td>     <th>  Log-Likelihood:    </th> <td> -1108.2</td> \n",
       "</tr>\n",
       "<tr>\n",
       "  <th>No. Observations:</th>      <td>   315</td>      <th>  AIC:               </th> <td>   2238.</td> \n",
       "</tr>\n",
       "<tr>\n",
       "  <th>Df Residuals:</th>          <td>   304</td>      <th>  BIC:               </th> <td>   2280.</td> \n",
       "</tr>\n",
       "<tr>\n",
       "  <th>Df Model:</th>              <td>    10</td>      <th>                     </th>     <td> </td>    \n",
       "</tr>\n",
       "<tr>\n",
       "  <th>Covariance Type:</th>      <td>nonrobust</td>    <th>                     </th>     <td> </td>    \n",
       "</tr>\n",
       "</table>\n",
       "<table class=\"simpletable\">\n",
       "<tr>\n",
       "      <td></td>        <th>coef</th>     <th>std err</th>      <th>t</th>      <th>P>|t|</th>  <th>[0.025</th>    <th>0.975]</th>  \n",
       "</tr>\n",
       "<tr>\n",
       "  <th>const</th>    <td>  655.8635</td> <td>   11.332</td> <td>   57.875</td> <td> 0.000</td> <td>  633.564</td> <td>  678.163</td>\n",
       "</tr>\n",
       "<tr>\n",
       "  <th>enrltot</th>  <td>   -0.0007</td> <td>    0.002</td> <td>   -0.369</td> <td> 0.712</td> <td>   -0.004</td> <td>    0.003</td>\n",
       "</tr>\n",
       "<tr>\n",
       "  <th>teachers</th> <td>    0.0070</td> <td>    0.040</td> <td>    0.176</td> <td> 0.861</td> <td>   -0.071</td> <td>    0.085</td>\n",
       "</tr>\n",
       "<tr>\n",
       "  <th>calwpct</th>  <td>   -0.1361</td> <td>    0.065</td> <td>   -2.107</td> <td> 0.036</td> <td>   -0.263</td> <td>   -0.009</td>\n",
       "</tr>\n",
       "<tr>\n",
       "  <th>mealpct</th>  <td>   -0.3289</td> <td>    0.041</td> <td>   -8.023</td> <td> 0.000</td> <td>   -0.410</td> <td>   -0.248</td>\n",
       "</tr>\n",
       "<tr>\n",
       "  <th>computer</th> <td>    0.0021</td> <td>    0.004</td> <td>    0.603</td> <td> 0.547</td> <td>   -0.005</td> <td>    0.009</td>\n",
       "</tr>\n",
       "<tr>\n",
       "  <th>compstu</th>  <td>    9.7615</td> <td>    8.892</td> <td>    1.098</td> <td> 0.273</td> <td>   -7.737</td> <td>   27.260</td>\n",
       "</tr>\n",
       "<tr>\n",
       "  <th>expnstu</th>  <td>    0.0020</td> <td>    0.001</td> <td>    2.010</td> <td> 0.045</td> <td> 4.28e-05</td> <td>    0.004</td>\n",
       "</tr>\n",
       "<tr>\n",
       "  <th>str</th>      <td>   -0.1399</td> <td>    0.382</td> <td>   -0.367</td> <td> 0.714</td> <td>   -0.891</td> <td>    0.611</td>\n",
       "</tr>\n",
       "<tr>\n",
       "  <th>avginc</th>   <td>    0.6054</td> <td>    0.099</td> <td>    6.136</td> <td> 0.000</td> <td>    0.411</td> <td>    0.800</td>\n",
       "</tr>\n",
       "<tr>\n",
       "  <th>elpct</th>    <td>   -0.2043</td> <td>    0.039</td> <td>   -5.183</td> <td> 0.000</td> <td>   -0.282</td> <td>   -0.127</td>\n",
       "</tr>\n",
       "</table>\n",
       "<table class=\"simpletable\">\n",
       "<tr>\n",
       "  <th>Omnibus:</th>       <td> 4.947</td> <th>  Durbin-Watson:     </th> <td>   2.044</td>\n",
       "</tr>\n",
       "<tr>\n",
       "  <th>Prob(Omnibus):</th> <td> 0.084</td> <th>  Jarque-Bera (JB):  </th> <td>   5.436</td>\n",
       "</tr>\n",
       "<tr>\n",
       "  <th>Skew:</th>          <td> 0.173</td> <th>  Prob(JB):          </th> <td>  0.0660</td>\n",
       "</tr>\n",
       "<tr>\n",
       "  <th>Kurtosis:</th>      <td> 3.543</td> <th>  Cond. No.          </th> <td>1.59e+05</td>\n",
       "</tr>\n",
       "</table><br/><br/>Notes:<br/>[1] Standard Errors assume that the covariance matrix of the errors is correctly specified.<br/>[2] The condition number is large, 1.59e+05. This might indicate that there are<br/>strong multicollinearity or other numerical problems."
      ],
      "text/plain": [
       "<class 'statsmodels.iolib.summary.Summary'>\n",
       "\"\"\"\n",
       "                            OLS Regression Results                            \n",
       "==============================================================================\n",
       "Dep. Variable:                testscr   R-squared:                       0.808\n",
       "Model:                            OLS   Adj. R-squared:                  0.802\n",
       "Method:                 Least Squares   F-statistic:                     128.0\n",
       "Date:                Tue, 22 Feb 2022   Prob (F-statistic):          1.06e-102\n",
       "Time:                        16:26:28   Log-Likelihood:                -1108.2\n",
       "No. Observations:                 315   AIC:                             2238.\n",
       "Df Residuals:                     304   BIC:                             2280.\n",
       "Df Model:                          10                                         \n",
       "Covariance Type:            nonrobust                                         \n",
       "==============================================================================\n",
       "                 coef    std err          t      P>|t|      [0.025      0.975]\n",
       "------------------------------------------------------------------------------\n",
       "const        655.8635     11.332     57.875      0.000     633.564     678.163\n",
       "enrltot       -0.0007      0.002     -0.369      0.712      -0.004       0.003\n",
       "teachers       0.0070      0.040      0.176      0.861      -0.071       0.085\n",
       "calwpct       -0.1361      0.065     -2.107      0.036      -0.263      -0.009\n",
       "mealpct       -0.3289      0.041     -8.023      0.000      -0.410      -0.248\n",
       "computer       0.0021      0.004      0.603      0.547      -0.005       0.009\n",
       "compstu        9.7615      8.892      1.098      0.273      -7.737      27.260\n",
       "expnstu        0.0020      0.001      2.010      0.045    4.28e-05       0.004\n",
       "str           -0.1399      0.382     -0.367      0.714      -0.891       0.611\n",
       "avginc         0.6054      0.099      6.136      0.000       0.411       0.800\n",
       "elpct         -0.2043      0.039     -5.183      0.000      -0.282      -0.127\n",
       "==============================================================================\n",
       "Omnibus:                        4.947   Durbin-Watson:                   2.044\n",
       "Prob(Omnibus):                  0.084   Jarque-Bera (JB):                5.436\n",
       "Skew:                           0.173   Prob(JB):                       0.0660\n",
       "Kurtosis:                       3.543   Cond. No.                     1.59e+05\n",
       "==============================================================================\n",
       "\n",
       "Notes:\n",
       "[1] Standard Errors assume that the covariance matrix of the errors is correctly specified.\n",
       "[2] The condition number is large, 1.59e+05. This might indicate that there are\n",
       "strong multicollinearity or other numerical problems.\n",
       "\"\"\""
      ]
     },
     "execution_count": 18,
     "metadata": {},
     "output_type": "execute_result"
    }
   ],
   "source": [
    "import statsmodels.api as sm\n",
    "\n",
    "X_train_new = sm.add_constant(X_train)\n",
    "model = sm.OLS(y_train, X_train_new ).fit()\n",
    "\n",
    "model.summary() # get a complete summary of the model"
   ]
  },
  {
   "cell_type": "code",
   "execution_count": 19,
   "id": "8bf7ede3",
   "metadata": {},
   "outputs": [
    {
     "name": "stdout",
     "output_type": "stream",
     "text": [
      "Training set score: 0.81\n",
      "Test set score: 0.80\n",
      "0.7944550222758904\n"
     ]
    }
   ],
   "source": [
    "## Cross validation\n",
    "\n",
    "# Let’s look at the training set and test set performance using r squared:\n",
    "\n",
    "print(\"Training set score: {:.2f}\".format(lr.score(X_train, y_train)))\n",
    "print(\"Test set score: {:.2f}\".format(lr.score(X_test, y_test)))\n",
    "\n",
    "#cross validation\n",
    "from sklearn.model_selection import cross_val_score\n",
    "\n",
    "print(np.mean(cross_val_score(LinearRegression(), X_train, y_train, cv=5, scoring=\"r2\")))"
   ]
  },
  {
   "cell_type": "markdown",
   "id": "1b3c1928",
   "metadata": {},
   "source": [
    "#### 1.3 Ridge Regression"
   ]
  },
  {
   "cell_type": "code",
   "execution_count": 20,
   "id": "fdc01484",
   "metadata": {},
   "outputs": [
    {
     "name": "stdout",
     "output_type": "stream",
     "text": [
      "Training set score: 0.80791\n",
      "Test set score: 0.79911\n",
      "Number of features used: 10\n",
      "ridge.coef_: [-5.04400773e-04  1.57762368e-03 -1.40496029e-01 -3.27684784e-01\n",
      "  3.06646915e-03  4.54938027e+00  2.10669828e-03 -1.92439841e-01\n",
      "  6.05862173e-01 -2.06788121e-01]\n"
     ]
    }
   ],
   "source": [
    "#Ridge regression using default parameter (alpha=1.0)\n",
    "\n",
    "from sklearn.linear_model import Ridge\n",
    "ridge = Ridge(alpha=1.0).fit(X_train, y_train)\n",
    "print(\"Training set score: {:.5f}\".format(ridge.score(X_train, y_train)))\n",
    "print(\"Test set score: {:.5f}\".format(ridge.score(X_test, y_test)))\n",
    "print(\"Number of features used: {}\".format(np.sum(ridge.coef_ != 0)))\n",
    "print(\"ridge.coef_: {}\".format(ridge.coef_))"
   ]
  },
  {
   "cell_type": "code",
   "execution_count": 21,
   "id": "0c0d59ed",
   "metadata": {},
   "outputs": [
    {
     "name": "stdout",
     "output_type": "stream",
     "text": [
      "0.7942492744131304\n"
     ]
    }
   ],
   "source": [
    "# Cross validation\n",
    "\n",
    "from sklearn.model_selection import cross_val_score\n",
    "\n",
    "print(np.mean(cross_val_score(Ridge(alpha=1.0), X_train, y_train, cv=5, scoring=\"r2\")))"
   ]
  },
  {
   "cell_type": "markdown",
   "id": "e469c53d",
   "metadata": {},
   "source": [
    "#### 1.3 Lasso Regression"
   ]
  },
  {
   "cell_type": "code",
   "execution_count": 22,
   "id": "5df70cae",
   "metadata": {
    "scrolled": true
   },
   "outputs": [
    {
     "name": "stdout",
     "output_type": "stream",
     "text": [
      "Training set score: 0.80696\n",
      "Test set score: 0.79842\n",
      "Number of features used: 8\n",
      "lasso.coef_: [-0.0006692   0.00280393 -0.13143036 -0.34107847  0.00380733  0.\n",
      "  0.00263972 -0.          0.56830627 -0.20038206]\n"
     ]
    },
    {
     "name": "stderr",
     "output_type": "stream",
     "text": [
      "/Users/rifqimfebrian/opt/anaconda3/lib/python3.8/site-packages/sklearn/linear_model/_coordinate_descent.py:530: ConvergenceWarning: Objective did not converge. You might want to increase the number of iterations. Duality gap: 28.98949217129484, tolerance: 10.929720799520847\n",
      "  model = cd_fast.enet_coordinate_descent(\n"
     ]
    }
   ],
   "source": [
    "from sklearn.linear_model import Lasso\n",
    "lasso = Lasso(alpha=1.0).fit(X_train, y_train)\n",
    "print(\"Training set score: {:.5f}\".format(lasso.score(X_train, y_train)))\n",
    "print(\"Test set score: {:.5f}\".format(lasso.score(X_test, y_test)))\n",
    "print(\"Number of features used: {}\".format(np.sum(lasso.coef_ != 0)))\n",
    "print(\"lasso.coef_: {}\".format(lasso.coef_))"
   ]
  },
  {
   "cell_type": "code",
   "execution_count": 23,
   "id": "f6b93ec8",
   "metadata": {},
   "outputs": [
    {
     "name": "stdout",
     "output_type": "stream",
     "text": [
      "0.7949286565870415\n"
     ]
    },
    {
     "name": "stderr",
     "output_type": "stream",
     "text": [
      "/Users/rifqimfebrian/opt/anaconda3/lib/python3.8/site-packages/sklearn/linear_model/_coordinate_descent.py:530: ConvergenceWarning: Objective did not converge. You might want to increase the number of iterations. Duality gap: 1142.6708174685318, tolerance: 8.497521986129497\n",
      "  model = cd_fast.enet_coordinate_descent(\n",
      "/Users/rifqimfebrian/opt/anaconda3/lib/python3.8/site-packages/sklearn/linear_model/_coordinate_descent.py:530: ConvergenceWarning: Objective did not converge. You might want to increase the number of iterations. Duality gap: 769.2437753525628, tolerance: 8.694900031505576\n",
      "  model = cd_fast.enet_coordinate_descent(\n",
      "/Users/rifqimfebrian/opt/anaconda3/lib/python3.8/site-packages/sklearn/linear_model/_coordinate_descent.py:530: ConvergenceWarning: Objective did not converge. You might want to increase the number of iterations. Duality gap: 16.169642416221905, tolerance: 8.679185059355651\n",
      "  model = cd_fast.enet_coordinate_descent(\n"
     ]
    }
   ],
   "source": [
    "# Cross validation\n",
    "\n",
    "from sklearn.model_selection import cross_val_score\n",
    "\n",
    "print(np.mean(cross_val_score(Lasso(alpha=1.0), X_train, y_train, cv=5, scoring=\"r2\")))"
   ]
  },
  {
   "cell_type": "markdown",
   "id": "a4e9c489",
   "metadata": {},
   "source": [
    "#### 1.3 C\n",
    "Does scaling the data with the StandardScaler help?"
   ]
  },
  {
   "cell_type": "code",
   "execution_count": 24,
   "id": "652edd25",
   "metadata": {},
   "outputs": [
    {
     "name": "stdout",
     "output_type": "stream",
     "text": [
      "Training set score: 0.76691\n",
      "Test set score: 0.68417\n"
     ]
    }
   ],
   "source": [
    "# KNN for regression using StandardScaler\n",
    "from sklearn.preprocessing import StandardScaler\n",
    "\n",
    "scaler = StandardScaler()\n",
    "scaler.fit(X_train)\n",
    "X_train_scaled = scaler.transform(X_train)\n",
    "KNNRegressor_scaled = KNeighborsRegressor(n_neighbors=22).fit(X_train_scaled, y_train)\n",
    "X_test_scaled = scaler.transform(X_test)\n",
    "KNNRegressor_scaled.score(X_test_scaled, y_test)\n",
    "print(\"Training set score: {:.5f}\".format(KNNRegressor_scaled.score(X_train_scaled, y_train)))\n",
    "print(\"Test set score: {:.5f}\".format(KNNRegressor_scaled.score(X_test_scaled, y_test)))"
   ]
  },
  {
   "cell_type": "code",
   "execution_count": 25,
   "id": "e68c0542",
   "metadata": {},
   "outputs": [
    {
     "name": "stdout",
     "output_type": "stream",
     "text": [
      "Training set score: 0.80813\n",
      "Test set score: 0.79936\n",
      "lasso.coef_: [-2.65924605  1.3495415  -1.61906375 -8.97046881  0.93812036  0.64041941\n",
      "  1.30257187 -0.26138847  4.49027776 -3.7413484 ]\n"
     ]
    }
   ],
   "source": [
    "## Linear Regression (OLS) with StandardScaler\n",
    "from sklearn.linear_model import LinearRegression\n",
    "from sklearn.preprocessing import StandardScaler\n",
    "\n",
    "scaler = StandardScaler()\n",
    "scaler.fit(X_train)\n",
    "\n",
    "X_train_scaled = scaler.transform(X_train)\n",
    "OLS_scaled = LinearRegression().fit(X_train_scaled, y_train)\n",
    "\n",
    "X_test_scaled = scaler.transform(X_test)\n",
    "OLS_scaled.score(X_test_scaled, y_test)\n",
    "\n",
    "print(\"Training set score: {:.5f}\".format(OLS_scaled.score(X_train_scaled, y_train)))\n",
    "print(\"Test set score: {:.5f}\".format(OLS_scaled.score(X_test_scaled, y_test)))\n",
    "print(\"lasso.coef_: {}\".format(OLS_scaled.coef_))"
   ]
  },
  {
   "cell_type": "code",
   "execution_count": 26,
   "id": "e28a16c2",
   "metadata": {},
   "outputs": [
    {
     "name": "stdout",
     "output_type": "stream",
     "text": [
      "Training set score: 0.80810\n",
      "Test set score: 0.79877\n",
      "Number of features used: 10\n",
      "lasso.coef_: [-1.49202788  0.13695571 -1.65394936 -8.87843243  0.99773539  0.62815851\n",
      "  1.28353659 -0.31919286  4.52350385 -3.7655957 ]\n"
     ]
    }
   ],
   "source": [
    "# Ridge regression using default parameter and standardscaler\n",
    "\n",
    "from sklearn.linear_model import Ridge\n",
    "from sklearn.preprocessing import StandardScaler #now we don't need to add preprocessing. before calls to StandardScaler()\n",
    "\n",
    "scaler = StandardScaler()\n",
    "scaler.fit(X_train)\n",
    "X_train_scaled = scaler.transform(X_train)\n",
    "ridge_scaled = Ridge(alpha=1.0).fit(X_train_scaled, y_train)\n",
    "X_test_scaled = scaler.transform(X_test)\n",
    "ridge_scaled.score(X_test_scaled, y_test)\n",
    "print(\"Training set score: {:.5f}\".format(ridge_scaled.score(X_train_scaled, y_train)))\n",
    "print(\"Test set score: {:.5f}\".format(ridge_scaled.score(X_test_scaled, y_test)))\n",
    "print(\"Number of features used: {}\".format(np.sum(ridge_scaled.coef_ != 0)))\n",
    "print(\"lasso.coef_: {}\".format(ridge_scaled.coef_))"
   ]
  },
  {
   "cell_type": "code",
   "execution_count": 27,
   "id": "039ef52a",
   "metadata": {},
   "outputs": [
    {
     "name": "stdout",
     "output_type": "stream",
     "text": [
      "Training set score: 0.79900\n",
      "Test set score: 0.79425\n",
      "Number of features used: 7\n",
      "lasso.coef_: [-0.         -0.         -0.50169345 -9.8162017  -0.          0.42912187\n",
      "  0.58117925 -0.11021785  4.07947005 -3.00734747]\n"
     ]
    }
   ],
   "source": [
    "# Using StandardScaler()\n",
    "# Ridge regression using default parameter and standardscaler\n",
    "\n",
    "from sklearn.linear_model import Lasso\n",
    "from sklearn.preprocessing import StandardScaler #now we don't need to add preprocessing. before calls to StandardScaler()\n",
    "\n",
    "scaler = StandardScaler()\n",
    "scaler.fit(X_train)\n",
    "X_train_scaled = scaler.transform(X_train)\n",
    "lasso_scaled = Lasso(alpha=1.0).fit(X_train_scaled, y_train)\n",
    "X_test_scaled = scaler.transform(X_test)\n",
    "lasso_scaled.score(X_test_scaled, y_test)\n",
    "print(\"Training set score: {:.5f}\".format(lasso_scaled.score(X_train_scaled, y_train)))\n",
    "print(\"Test set score: {:.5f}\".format(lasso_scaled.score(X_test_scaled, y_test)))\n",
    "print(\"Number of features used: {}\".format(np.sum(lasso_scaled.coef_ != 0)))\n",
    "print(\"lasso.coef_: {}\".format(lasso_scaled.coef_))"
   ]
  },
  {
   "cell_type": "markdown",
   "id": "488070bc",
   "metadata": {},
   "source": [
    "#### 1.3 C Answer\n",
    "Does scaling the data with the StandardScaler help?\n",
    "\n",
    "###### It helps for KNN regression, but it is not giving a huge difference for OLS, Ridge, and Lasso."
   ]
  },
  {
   "cell_type": "markdown",
   "id": "3721c4e5",
   "metadata": {},
   "source": [
    "### 1.4\n",
    "Tune the parameters of the models where possible using GridSearchCV. Do the results improve?"
   ]
  },
  {
   "cell_type": "markdown",
   "id": "ede84aaa",
   "metadata": {},
   "source": [
    "#### KNN for Regression"
   ]
  },
  {
   "cell_type": "code",
   "execution_count": 32,
   "id": "b222eb4a",
   "metadata": {},
   "outputs": [
    {
     "name": "stdout",
     "output_type": "stream",
     "text": [
      "{'kneighborsregressor__n_neighbors': 7}\n",
      "0.7158799500309299\n"
     ]
    }
   ],
   "source": [
    "### KNN for regression using GridSearchCV and pipeline\n",
    "from sklearn.model_selection import GridSearchCV\n",
    "from sklearn.pipeline import make_pipeline\n",
    "from sklearn.neighbors import KNeighborsRegressor\n",
    "\n",
    "knn_pipe = make_pipeline(StandardScaler(), KNeighborsRegressor())\n",
    "\n",
    "#refer to step name with two underscores before argument name when...\n",
    "#you build a parameter grid\n",
    "\n",
    "param_grid = {'kneighborsregressor__n_neighbors': range(1, 25)}\n",
    "grid = GridSearchCV(knn_pipe, param_grid, cv=5)\n",
    "grid.fit(X_train, y_train)\n",
    "print(grid.best_params_)\n",
    "print(grid.score(X_test, y_test))"
   ]
  },
  {
   "cell_type": "code",
   "execution_count": 29,
   "id": "8c278c7c",
   "metadata": {},
   "outputs": [
    {
     "name": "stdout",
     "output_type": "stream",
     "text": [
      "Best Score:  0.7944550222758906\n"
     ]
    }
   ],
   "source": [
    "### Linear Regression (OLS) ###\n",
    "from sklearn.linear_model import LinearRegression\n",
    "from sklearn.model_selection import GridSearchCV\n",
    "\n",
    "model = make_pipeline(StandardScaler(), LinearRegression())\n",
    "param_grid = dict()\n",
    "grid_ols = GridSearchCV(model, param_grid=param_grid, scoring='r2', cv=5, n_jobs=-1)\n",
    "grid_ols_result = grid_ols.fit(X_train, y_train)\n",
    "print('Best Score: ', grid_ols_result.best_score_)"
   ]
  },
  {
   "cell_type": "code",
   "execution_count": 30,
   "id": "9c750d3a",
   "metadata": {},
   "outputs": [
    {
     "name": "stdout",
     "output_type": "stream",
     "text": [
      "Fitting 5 folds for each of 7 candidates, totalling 35 fits\n",
      "Best Score:  0.7944562316404363\n",
      "Best Params:  {'alpha': 0.01}\n"
     ]
    }
   ],
   "source": [
    "### Ridge Regression ###\n",
    "\n",
    "# find optimal alpha with grid search\n",
    "\n",
    "alpha = [0.001, 0.01, 0.1, 1, 10, 100, 1000]\n",
    "param_grid = dict(alpha=alpha)\n",
    "grid_ridge = GridSearchCV(estimator=ridge, param_grid=param_grid, scoring='r2', verbose=1, n_jobs=-1)\n",
    "grid_ridge_result = grid_ridge.fit(X_train, y_train)\n",
    "print('Best Score: ', grid_ridge_result.best_score_)\n",
    "print('Best Params: ', grid_ridge_result.best_params_)"
   ]
  },
  {
   "cell_type": "code",
   "execution_count": 31,
   "id": "27ff8217",
   "metadata": {},
   "outputs": [
    {
     "name": "stdout",
     "output_type": "stream",
     "text": [
      "Fitting 5 folds for each of 7 candidates, totalling 35 fits\n",
      "Best Score:  0.7949286565870415\n",
      "Best Params:  {'alpha': 1}\n"
     ]
    },
    {
     "name": "stderr",
     "output_type": "stream",
     "text": [
      "/Users/rifqimfebrian/opt/anaconda3/lib/python3.8/site-packages/sklearn/linear_model/_coordinate_descent.py:530: ConvergenceWarning: Objective did not converge. You might want to increase the number of iterations. Duality gap: 28.98949217129484, tolerance: 10.929720799520847\n",
      "  model = cd_fast.enet_coordinate_descent(\n"
     ]
    }
   ],
   "source": [
    "### Lasso Regression ###\n",
    "\n",
    "# find optimal alpha with grid search\n",
    "alpha = [0.001, 0.01, 0.1, 1, 10, 100, 1000]\n",
    "param_grid = dict(alpha=alpha)\n",
    "grid_lasso = GridSearchCV(estimator=lasso, param_grid=param_grid, scoring='r2', verbose=1, n_jobs=-1)\n",
    "grid_lasso_result = grid_lasso.fit(X_train, y_train)\n",
    "print('Best Score: ', grid_lasso_result.best_score_)\n",
    "print('Best Params: ', grid_lasso_result.best_params_)"
   ]
  },
  {
   "cell_type": "markdown",
   "id": "037693fa",
   "metadata": {},
   "source": [
    "### 1.4\n",
    "Tune the parameters of the models where possible using GridSearchCV. Do the results improve?\n",
    "\n",
    "##### Answer: KNN for regression is improving by using GridSearchCV. However, it does not giving any significant difference for Linear Regression (OLS), Ridge Regression, and OLS Regression"
   ]
  },
  {
   "cell_type": "markdown",
   "id": "06610323",
   "metadata": {},
   "source": [
    "### 1.5 Answer\n",
    "Compare the coefficients of your two best linear models (not knn), do they agree on which features are important?\n",
    "\n",
    "##### Answer: In this dataset, linear regression (OLS) and Ridge Regression have the best result. Both regressions have the same amount of feature — both regressions agree that all features are important. "
   ]
  },
  {
   "cell_type": "markdown",
   "id": "9eed9157",
   "metadata": {},
   "source": [
    "### 1.6\n",
    "Discuss which final model you would choose to predict new data\n",
    "\n",
    "##### Answer: I will choose the linear regression (OLS) model since OLS has the best result"
   ]
  }
 ],
 "metadata": {
  "kernelspec": {
   "display_name": "Python 3",
   "language": "python",
   "name": "python3"
  },
  "language_info": {
   "codemirror_mode": {
    "name": "ipython",
    "version": 3
   },
   "file_extension": ".py",
   "mimetype": "text/x-python",
   "name": "python",
   "nbconvert_exporter": "python",
   "pygments_lexer": "ipython3",
   "version": "3.8.8"
  }
 },
 "nbformat": 4,
 "nbformat_minor": 5
}
