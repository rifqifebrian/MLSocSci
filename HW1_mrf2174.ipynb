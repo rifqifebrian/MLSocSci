{
 "cells": [
  {
   "cell_type": "code",
   "execution_count": 46,
   "id": "bc410a90",
   "metadata": {},
   "outputs": [],
   "source": [
    "#Import Python Libraries\n",
    "import numpy as np\n",
    "import scipy as sp\n",
    "import pandas as pd\n",
    "import matplotlib as mpl\n",
    "import matplotlib.pyplot as plt\n",
    "import seaborn as sns"
   ]
  },
  {
   "cell_type": "markdown",
   "id": "f0c27d9e",
   "metadata": {},
   "source": [
    "## PART A"
   ]
  },
  {
   "cell_type": "markdown",
   "id": "0a8cb865",
   "metadata": {},
   "source": [
    "Question 1: Import the data using pandas read_csv function"
   ]
  },
  {
   "cell_type": "code",
   "execution_count": 47,
   "id": "d316240a",
   "metadata": {},
   "outputs": [],
   "source": [
    "#Read csv file\n",
    "df = pd.read_csv(\"https://vincentarelbundock.github.io/Rdatasets/csv/datasets/mtcars.csv\")"
   ]
  },
  {
   "cell_type": "markdown",
   "id": "b6a5e510",
   "metadata": {},
   "source": [
    "Question 2: Display the first five rows of the data"
   ]
  },
  {
   "cell_type": "code",
   "execution_count": 48,
   "id": "e61acae3",
   "metadata": {},
   "outputs": [
    {
     "data": {
      "text/html": [
       "<div>\n",
       "<style scoped>\n",
       "    .dataframe tbody tr th:only-of-type {\n",
       "        vertical-align: middle;\n",
       "    }\n",
       "\n",
       "    .dataframe tbody tr th {\n",
       "        vertical-align: top;\n",
       "    }\n",
       "\n",
       "    .dataframe thead th {\n",
       "        text-align: right;\n",
       "    }\n",
       "</style>\n",
       "<table border=\"1\" class=\"dataframe\">\n",
       "  <thead>\n",
       "    <tr style=\"text-align: right;\">\n",
       "      <th></th>\n",
       "      <th>Unnamed: 0</th>\n",
       "      <th>mpg</th>\n",
       "      <th>cyl</th>\n",
       "      <th>disp</th>\n",
       "      <th>hp</th>\n",
       "      <th>drat</th>\n",
       "      <th>wt</th>\n",
       "      <th>qsec</th>\n",
       "      <th>vs</th>\n",
       "      <th>am</th>\n",
       "      <th>gear</th>\n",
       "      <th>carb</th>\n",
       "    </tr>\n",
       "  </thead>\n",
       "  <tbody>\n",
       "    <tr>\n",
       "      <th>0</th>\n",
       "      <td>Mazda RX4</td>\n",
       "      <td>21.0</td>\n",
       "      <td>6</td>\n",
       "      <td>160.0</td>\n",
       "      <td>110</td>\n",
       "      <td>3.90</td>\n",
       "      <td>2.620</td>\n",
       "      <td>16.46</td>\n",
       "      <td>0</td>\n",
       "      <td>1</td>\n",
       "      <td>4</td>\n",
       "      <td>4</td>\n",
       "    </tr>\n",
       "    <tr>\n",
       "      <th>1</th>\n",
       "      <td>Mazda RX4 Wag</td>\n",
       "      <td>21.0</td>\n",
       "      <td>6</td>\n",
       "      <td>160.0</td>\n",
       "      <td>110</td>\n",
       "      <td>3.90</td>\n",
       "      <td>2.875</td>\n",
       "      <td>17.02</td>\n",
       "      <td>0</td>\n",
       "      <td>1</td>\n",
       "      <td>4</td>\n",
       "      <td>4</td>\n",
       "    </tr>\n",
       "    <tr>\n",
       "      <th>2</th>\n",
       "      <td>Datsun 710</td>\n",
       "      <td>22.8</td>\n",
       "      <td>4</td>\n",
       "      <td>108.0</td>\n",
       "      <td>93</td>\n",
       "      <td>3.85</td>\n",
       "      <td>2.320</td>\n",
       "      <td>18.61</td>\n",
       "      <td>1</td>\n",
       "      <td>1</td>\n",
       "      <td>4</td>\n",
       "      <td>1</td>\n",
       "    </tr>\n",
       "    <tr>\n",
       "      <th>3</th>\n",
       "      <td>Hornet 4 Drive</td>\n",
       "      <td>21.4</td>\n",
       "      <td>6</td>\n",
       "      <td>258.0</td>\n",
       "      <td>110</td>\n",
       "      <td>3.08</td>\n",
       "      <td>3.215</td>\n",
       "      <td>19.44</td>\n",
       "      <td>1</td>\n",
       "      <td>0</td>\n",
       "      <td>3</td>\n",
       "      <td>1</td>\n",
       "    </tr>\n",
       "    <tr>\n",
       "      <th>4</th>\n",
       "      <td>Hornet Sportabout</td>\n",
       "      <td>18.7</td>\n",
       "      <td>8</td>\n",
       "      <td>360.0</td>\n",
       "      <td>175</td>\n",
       "      <td>3.15</td>\n",
       "      <td>3.440</td>\n",
       "      <td>17.02</td>\n",
       "      <td>0</td>\n",
       "      <td>0</td>\n",
       "      <td>3</td>\n",
       "      <td>2</td>\n",
       "    </tr>\n",
       "  </tbody>\n",
       "</table>\n",
       "</div>"
      ],
      "text/plain": [
       "          Unnamed: 0   mpg  cyl   disp   hp  drat     wt   qsec  vs  am  gear  \\\n",
       "0          Mazda RX4  21.0    6  160.0  110  3.90  2.620  16.46   0   1     4   \n",
       "1      Mazda RX4 Wag  21.0    6  160.0  110  3.90  2.875  17.02   0   1     4   \n",
       "2         Datsun 710  22.8    4  108.0   93  3.85  2.320  18.61   1   1     4   \n",
       "3     Hornet 4 Drive  21.4    6  258.0  110  3.08  3.215  19.44   1   0     3   \n",
       "4  Hornet Sportabout  18.7    8  360.0  175  3.15  3.440  17.02   0   0     3   \n",
       "\n",
       "   carb  \n",
       "0     4  \n",
       "1     4  \n",
       "2     1  \n",
       "3     1  \n",
       "4     2  "
      ]
     },
     "execution_count": 48,
     "metadata": {},
     "output_type": "execute_result"
    }
   ],
   "source": [
    "df.head()"
   ]
  },
  {
   "cell_type": "markdown",
   "id": "4a1cfbf0",
   "metadata": {},
   "source": [
    "Question 3: Calculate the average of the mpg column for all cars within each category of the cyl column"
   ]
  },
  {
   "cell_type": "code",
   "execution_count": 49,
   "id": "34cd2c90",
   "metadata": {},
   "outputs": [
    {
     "data": {
      "text/html": [
       "<div>\n",
       "<style scoped>\n",
       "    .dataframe tbody tr th:only-of-type {\n",
       "        vertical-align: middle;\n",
       "    }\n",
       "\n",
       "    .dataframe tbody tr th {\n",
       "        vertical-align: top;\n",
       "    }\n",
       "\n",
       "    .dataframe thead th {\n",
       "        text-align: right;\n",
       "    }\n",
       "</style>\n",
       "<table border=\"1\" class=\"dataframe\">\n",
       "  <thead>\n",
       "    <tr style=\"text-align: right;\">\n",
       "      <th></th>\n",
       "      <th>mpg</th>\n",
       "    </tr>\n",
       "    <tr>\n",
       "      <th>cyl</th>\n",
       "      <th></th>\n",
       "    </tr>\n",
       "  </thead>\n",
       "  <tbody>\n",
       "    <tr>\n",
       "      <th>4</th>\n",
       "      <td>26.663636</td>\n",
       "    </tr>\n",
       "    <tr>\n",
       "      <th>6</th>\n",
       "      <td>19.742857</td>\n",
       "    </tr>\n",
       "    <tr>\n",
       "      <th>8</th>\n",
       "      <td>15.100000</td>\n",
       "    </tr>\n",
       "  </tbody>\n",
       "</table>\n",
       "</div>"
      ],
      "text/plain": [
       "           mpg\n",
       "cyl           \n",
       "4    26.663636\n",
       "6    19.742857\n",
       "8    15.100000"
      ]
     },
     "execution_count": 49,
     "metadata": {},
     "output_type": "execute_result"
    }
   ],
   "source": [
    "df.groupby('cyl')[['mpg']].mean()"
   ]
  },
  {
   "cell_type": "markdown",
   "id": "78921063",
   "metadata": {},
   "source": [
    "Question 4: Create a histogram using the mpg column"
   ]
  },
  {
   "cell_type": "code",
   "execution_count": 50,
   "id": "5b588859",
   "metadata": {},
   "outputs": [
    {
     "data": {
      "text/plain": [
       "Text(0.5, 1.0, 'histogram using the mpg')"
      ]
     },
     "execution_count": 50,
     "metadata": {},
     "output_type": "execute_result"
    },
    {
     "data": {
      "image/png": "[encoded data removed]",
      "text/plain": [
       "<Figure size 432x288 with 1 Axes>"
      ]
     },
     "metadata": {
      "needs_background": "light"
     },
     "output_type": "display_data"
    }
   ],
   "source": [
    "df['mpg'].hist()\n",
    "plt.xlabel(\"mpg\")\n",
    "plt.ylabel(\"Frequency\")\n",
    "plt.title(\"histogram using the mpg\")"
   ]
  },
  {
   "cell_type": "markdown",
   "id": "c774c1e1",
   "metadata": {},
   "source": [
    "Question 5: Choose two variables in the data and create a scatterplot"
   ]
  },
  {
   "cell_type": "code",
   "execution_count": 51,
   "id": "a16e3ecc",
   "metadata": {},
   "outputs": [
    {
     "data": {
      "text/plain": [
       "Text(0, 0.5, 'horsepower')"
      ]
     },
     "execution_count": 51,
     "metadata": {},
     "output_type": "execute_result"
    },
    {
     "data": {
      "image/png": "[encoded data removed]",
      "text/plain": [
       "<Figure size 432x288 with 1 Axes>"
      ]
     },
     "metadata": {
      "needs_background": "light"
     },
     "output_type": "display_data"
    }
   ],
   "source": [
    "plt.scatter(df['mpg'], df['hp'])\n",
    "plt.title(\"mpg by horsepower\")\n",
    "plt.xlabel(\"mpg\")\n",
    "plt.ylabel(\"horsepower\")"
   ]
  },
  {
   "cell_type": "markdown",
   "id": "6cedd92a",
   "metadata": {},
   "source": [
    "## Part B"
   ]
  },
  {
   "cell_type": "markdown",
   "id": "57888604",
   "metadata": {},
   "source": [
    "Question 1: Find a tabular dataset that interests you that has \"tidy\" data"
   ]
  },
  {
   "cell_type": "markdown",
   "id": "882e1123",
   "metadata": {},
   "source": [
    "This data contain information about Mars' humidty, pressure, temperature, wind speeds, and ultraviolet radtions that was measured by Rover Environmental Monitoring Station (REMS) — a weather station on Mars.\n",
    "\n",
    "Reference: U.S. Government, \"MARS Rover Environmental Monitoring Station: Weather and environment data for the planet mars.\" Kaggle, 2022, https://www.kaggle.com/deepcontractor/mars-rover-environmental-monitoring-station. Uploaded by user named 'Deep Contractor'."
   ]
  },
  {
   "cell_type": "code",
   "execution_count": 52,
   "id": "06a9afc3",
   "metadata": {},
   "outputs": [],
   "source": [
    "#read csv file\n",
    "df = pd.read_csv('REMS_Mars_Dataset.csv')"
   ]
  },
  {
   "cell_type": "markdown",
   "id": "4d9db6f0",
   "metadata": {},
   "source": [
    "Question 2: Display the first five rows of the data"
   ]
  },
  {
   "cell_type": "code",
   "execution_count": 53,
   "id": "cbbb8cd2",
   "metadata": {},
   "outputs": [
    {
     "data": {
      "text/html": [
       "<div>\n",
       "<style scoped>\n",
       "    .dataframe tbody tr th:only-of-type {\n",
       "        vertical-align: middle;\n",
       "    }\n",
       "\n",
       "    .dataframe tbody tr th {\n",
       "        vertical-align: top;\n",
       "    }\n",
       "\n",
       "    .dataframe thead th {\n",
       "        text-align: right;\n",
       "    }\n",
       "</style>\n",
       "<table border=\"1\" class=\"dataframe\">\n",
       "  <thead>\n",
       "    <tr style=\"text-align: right;\">\n",
       "      <th></th>\n",
       "      <th>earth_date_time</th>\n",
       "      <th>mars_date_time</th>\n",
       "      <th>sol_number</th>\n",
       "      <th>max_ground_temp(°C)</th>\n",
       "      <th>min_ground_temp(°C)</th>\n",
       "      <th>max_air_temp(°C)</th>\n",
       "      <th>min_air_temp(°C)</th>\n",
       "      <th>mean_pressure(Pa)</th>\n",
       "      <th>wind_speed(m/h)</th>\n",
       "      <th>humidity(%)</th>\n",
       "      <th>sunrise</th>\n",
       "      <th>sunset</th>\n",
       "      <th>UV_Radiation</th>\n",
       "      <th>weather</th>\n",
       "    </tr>\n",
       "  </thead>\n",
       "  <tbody>\n",
       "    <tr>\n",
       "      <th>0</th>\n",
       "      <td>Earth, 2022-01-26 UTC</td>\n",
       "      <td>Mars, Month 6 - LS 163°</td>\n",
       "      <td>Sol 3368</td>\n",
       "      <td>-3</td>\n",
       "      <td>-71</td>\n",
       "      <td>10</td>\n",
       "      <td>-84</td>\n",
       "      <td>707</td>\n",
       "      <td>Value not available</td>\n",
       "      <td>Value not available</td>\n",
       "      <td>05:25</td>\n",
       "      <td>17:20</td>\n",
       "      <td>moderate</td>\n",
       "      <td>Sunny</td>\n",
       "    </tr>\n",
       "    <tr>\n",
       "      <th>1</th>\n",
       "      <td>Earth, 2022-01-25 UTC</td>\n",
       "      <td>Mars, Month 6 - LS 163°</td>\n",
       "      <td>Sol 3367</td>\n",
       "      <td>-3</td>\n",
       "      <td>-72</td>\n",
       "      <td>10</td>\n",
       "      <td>-87</td>\n",
       "      <td>707</td>\n",
       "      <td>Value not available</td>\n",
       "      <td>Value not available</td>\n",
       "      <td>05:25</td>\n",
       "      <td>17:20</td>\n",
       "      <td>moderate</td>\n",
       "      <td>Sunny</td>\n",
       "    </tr>\n",
       "    <tr>\n",
       "      <th>2</th>\n",
       "      <td>Earth, 2022-01-24 UTC</td>\n",
       "      <td>Mars, Month 6 - LS 162°</td>\n",
       "      <td>Sol 3366</td>\n",
       "      <td>-4</td>\n",
       "      <td>-70</td>\n",
       "      <td>8</td>\n",
       "      <td>-81</td>\n",
       "      <td>708</td>\n",
       "      <td>Value not available</td>\n",
       "      <td>Value not available</td>\n",
       "      <td>05:25</td>\n",
       "      <td>17:21</td>\n",
       "      <td>moderate</td>\n",
       "      <td>Sunny</td>\n",
       "    </tr>\n",
       "    <tr>\n",
       "      <th>3</th>\n",
       "      <td>Earth, 2022-01-23 UTC</td>\n",
       "      <td>Mars, Month 6 - LS 162°</td>\n",
       "      <td>Sol 3365</td>\n",
       "      <td>-6</td>\n",
       "      <td>-70</td>\n",
       "      <td>9</td>\n",
       "      <td>-91</td>\n",
       "      <td>707</td>\n",
       "      <td>Value not available</td>\n",
       "      <td>Value not available</td>\n",
       "      <td>05:26</td>\n",
       "      <td>17:21</td>\n",
       "      <td>moderate</td>\n",
       "      <td>Sunny</td>\n",
       "    </tr>\n",
       "    <tr>\n",
       "      <th>4</th>\n",
       "      <td>Earth, 2022-01-22 UTC</td>\n",
       "      <td>Mars, Month 6 - LS 161°</td>\n",
       "      <td>Sol 3364</td>\n",
       "      <td>-7</td>\n",
       "      <td>-71</td>\n",
       "      <td>8</td>\n",
       "      <td>-92</td>\n",
       "      <td>708</td>\n",
       "      <td>Value not available</td>\n",
       "      <td>Value not available</td>\n",
       "      <td>05:26</td>\n",
       "      <td>17:21</td>\n",
       "      <td>moderate</td>\n",
       "      <td>Sunny</td>\n",
       "    </tr>\n",
       "  </tbody>\n",
       "</table>\n",
       "</div>"
      ],
      "text/plain": [
       "         earth_date_time           mars_date_time sol_number  \\\n",
       "0  Earth, 2022-01-26 UTC  Mars, Month 6 - LS 163°   Sol 3368   \n",
       "1  Earth, 2022-01-25 UTC  Mars, Month 6 - LS 163°   Sol 3367   \n",
       "2  Earth, 2022-01-24 UTC  Mars, Month 6 - LS 162°   Sol 3366   \n",
       "3  Earth, 2022-01-23 UTC  Mars, Month 6 - LS 162°   Sol 3365   \n",
       "4  Earth, 2022-01-22 UTC  Mars, Month 6 - LS 161°   Sol 3364   \n",
       "\n",
       "  max_ground_temp(°C) min_ground_temp(°C) max_air_temp(°C) min_air_temp(°C)  \\\n",
       "0                  -3                 -71               10              -84   \n",
       "1                  -3                 -72               10              -87   \n",
       "2                  -4                 -70                8              -81   \n",
       "3                  -6                 -70                9              -91   \n",
       "4                  -7                 -71                8              -92   \n",
       "\n",
       "  mean_pressure(Pa)      wind_speed(m/h)          humidity(%) sunrise sunset  \\\n",
       "0               707  Value not available  Value not available   05:25  17:20   \n",
       "1               707  Value not available  Value not available   05:25  17:20   \n",
       "2               708  Value not available  Value not available   05:25  17:21   \n",
       "3               707  Value not available  Value not available   05:26  17:21   \n",
       "4               708  Value not available  Value not available   05:26  17:21   \n",
       "\n",
       "  UV_Radiation weather  \n",
       "0     moderate   Sunny  \n",
       "1     moderate   Sunny  \n",
       "2     moderate   Sunny  \n",
       "3     moderate   Sunny  \n",
       "4     moderate   Sunny  "
      ]
     },
     "execution_count": 53,
     "metadata": {},
     "output_type": "execute_result"
    }
   ],
   "source": [
    "df.head()"
   ]
  },
  {
   "cell_type": "markdown",
   "id": "076dd0ed",
   "metadata": {},
   "source": [
    "Question 3: Create a visualization using one (or two) variables from this data. \n",
    "\n",
    "I created scatterplot to show correlation between maximum ground temperature and maximum air temperature at MARS in January 2022."
   ]
  },
  {
   "cell_type": "code",
   "execution_count": 54,
   "id": "94c17088",
   "metadata": {},
   "outputs": [
    {
     "data": {
      "text/plain": [
       "[RangeIndex(start=0, stop=24, step=1),\n",
       " Index(['earth_date_time', 'mars_date_time', 'sol_number',\n",
       "        'max_ground_temp(°C)', 'min_ground_temp(°C)', 'max_air_temp(°C)',\n",
       "        'min_air_temp(°C)', 'mean_pressure(Pa)', 'wind_speed(m/h)',\n",
       "        'humidity(%)', 'sunrise', 'sunset', 'UV_Radiation', 'weather'],\n",
       "       dtype='object')]"
      ]
     },
     "execution_count": 54,
     "metadata": {},
     "output_type": "execute_result"
    }
   ],
   "source": [
    "jan_time = df.loc[0:23]\n",
    "jan_time.axes"
   ]
  },
  {
   "cell_type": "code",
   "execution_count": 55,
   "id": "b0205b02",
   "metadata": {},
   "outputs": [
    {
     "data": {
      "image/png": "[encoded data removed]",
      "text/plain": [
       "<Figure size 432x288 with 1 Axes>"
      ]
     },
     "metadata": {
      "needs_background": "light"
     },
     "output_type": "display_data"
    }
   ],
   "source": [
    "# Scatterplot\n",
    "\n",
    "plt.scatter(jan_time['max_ground_temp(°C)'], jan_time['max_air_temp(°C)'])\n",
    "plt.title(\"mean pressure by max air temperature\")\n",
    "plt.xlabel(\"mean_presssure(Pa)\")\n",
    "plt.ylabel('max_air_temp(°C)')\n",
    "plt.show()"
   ]
  }
 ],
 "metadata": {
  "kernelspec": {
   "display_name": "Python 3",
   "language": "python",
   "name": "python3"
  },
  "language_info": {
   "codemirror_mode": {
    "name": "ipython",
    "version": 3
   },
   "file_extension": ".py",
   "mimetype": "text/x-python",
   "name": "python",
   "nbconvert_exporter": "python",
   "pygments_lexer": "ipython3",
   "version": "3.8.8"
  }
 },
 "nbformat": 4,
 "nbformat_minor": 5
}
